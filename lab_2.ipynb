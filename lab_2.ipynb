{
 "cells": [
  {
   "cell_type": "markdown",
   "metadata": {},
   "source": [
    "В Pygmo запрогроммировать две своих тестовых функции и найти их оптимум 3 разными алгоритмами доступными в библиотеке и получить таблицу сравнения"
   ]
  },
  {
   "cell_type": "code",
   "execution_count": null,
   "metadata": {},
   "outputs": [],
   "source": [
    "import pygmo as pg\n",
    "import numpy as np\n",
    "\n",
    "class SphereFunction:\n",
    "    def fitness(self, x):\n",
    "        return [sum(x**2)]\n",
    "\n",
    "    def get_bounds(self):\n",
    "        return ([-10, -10], [10, 10])\n",
    "\n",
    "class BoothFunction:\n",
    "    def fitness(self, x):\n",
    "        return [(x[0] + 2*x[1] - 7)**2 + (2*x[0] + x[1] - 5)**2]\n",
    "\n",
    "    def get_bounds(self):\n",
    "        return ([-10, -10], [10, 10])\n",
    "     \n",
    "\n",
    "def optimize_and_print(algorithm, problem):\n",
    "    prob = pg.problem(problem)\n",
    "    algo = pg.algorithm(algorithm(gen=100))\n",
    "\n",
    "    pop = pg.population(prob, size=10)\n",
    "    result = algo.evolve(pop)\n",
    "\n",
    "    best_solution = result.champion_x\n",
    "\n",
    "    print(f\"Алгоритм: {algorithm.__name__}, Функция: {problem.__class__.__name__}\")\n",
    "    print(f\"Лучшее решение: {best_solution}\")\n",
    "    print(f\"Значение функции: {problem.fitness(best_solution)[0]}\")\n",
    "    print(\"\\n\")"
   ]
  },
  {
   "cell_type": "code",
   "execution_count": null,
   "metadata": {},
   "outputs": [],
   "source": [
    "# Сравнение для функции сферы\n",
    "sphere_problem = SphereFunction()\n",
    "optimize_and_print(pg.de, sphere_problem)\n",
    "optimize_and_print(pg.pso, sphere_problem)\n",
    "optimize_and_print(pg.sga, sphere_problem)"
   ]
  },
  {
   "cell_type": "code",
   "execution_count": null,
   "metadata": {},
   "outputs": [],
   "source": [
    "# Сравнение для функции Бута\n",
    "booth_problem = BoothFunction()\n",
    "optimize_and_print(pg.de, booth_problem)\n",
    "optimize_and_print(pg.pso, booth_problem)\n",
    "optimize_and_print(pg.sga, booth_problem)"
   ]
  }
 ],
 "metadata": {
  "kernelspec": {
   "display_name": "Python 3",
   "language": "python",
   "name": "python3"
  },
  "language_info": {
   "codemirror_mode": {
    "name": "ipython",
    "version": 3
   },
   "file_extension": ".py",
   "mimetype": "text/x-python",
   "name": "python",
   "nbconvert_exporter": "python",
   "pygments_lexer": "ipython3",
   "version": "3.9.2"
  }
 },
 "nbformat": 4,
 "nbformat_minor": 2
}
